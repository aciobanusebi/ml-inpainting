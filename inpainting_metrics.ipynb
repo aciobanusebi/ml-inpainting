{
  "nbformat": 4,
  "nbformat_minor": 0,
  "metadata": {
    "colab": {
      "name": "inpainting-metrics.ipynb",
      "provenance": [],
      "collapsed_sections": []
    },
    "kernelspec": {
      "name": "python3",
      "display_name": "Python 3"
    }
  },
  "cells": [
    {
      "cell_type": "markdown",
      "metadata": {
        "id": "qo2fNT4V1iEC"
      },
      "source": [
        "mean L1 error in %\n",
        "\n",
        "[0,100]\n",
        "\n",
        "better = lower"
      ]
    },
    {
      "cell_type": "code",
      "metadata": {
        "id": "paWxPpC11h3Y",
        "outputId": "9ad9def7-30d6-4a8d-f310-7beded68e859",
        "colab": {
          "base_uri": "https://localhost:8080/",
          "height": 50
        }
      },
      "source": [
        "import numpy as np\n",
        "def l1_error(x,y,max_val=255.0):\n",
        "  return np.mean(np.abs(x/max_val - y/max_val)) * 100.0\n",
        "\n",
        "x = np.random.rand(100,100,3)*255.\n",
        "y = np.random.rand(100,100,3)*255.\n",
        "print(l1_error(x,y))\n",
        "\n",
        "x = np.zeros((100,100,3))*255.\n",
        "y = np.ones((100,100,3))*255.\n",
        "print(l1_error(x,y))"
      ],
      "execution_count": null,
      "outputs": [
        {
          "output_type": "stream",
          "text": [
            "33.53078927033954\n",
            "100.0\n"
          ],
          "name": "stdout"
        }
      ]
    },
    {
      "cell_type": "markdown",
      "metadata": {
        "id": "Cf9WO8O41gUS"
      },
      "source": [
        "mean squared L2 loss in %\n",
        "\n",
        "[0,100]\n",
        "\n",
        "better = lower"
      ]
    },
    {
      "cell_type": "code",
      "metadata": {
        "id": "DeCCCRGYorVB",
        "outputId": "d2ab0eaa-f406-4bb0-aed8-0b7c248f5b91",
        "colab": {
          "base_uri": "https://localhost:8080/",
          "height": 50
        }
      },
      "source": [
        "import numpy as np\n",
        "def l2_error(x,y,max_val=255.0):\n",
        "  return np.mean((x/max_val - y/max_val) ** 2) * 100.0\n",
        "\n",
        "x = np.random.rand(100,100,3)*255.\n",
        "y = np.random.rand(100,100,3)*255.\n",
        "print(l2_error(x,y))\n",
        "\n",
        "x = np.zeros((100,100,3))*255.\n",
        "y = np.ones((100,100,3))*255.\n",
        "print(l2_error(x,y))"
      ],
      "execution_count": null,
      "outputs": [
        {
          "output_type": "stream",
          "text": [
            "16.559701041852794\n",
            "100.0\n"
          ],
          "name": "stdout"
        }
      ]
    },
    {
      "cell_type": "markdown",
      "metadata": {
        "id": "AqviJDuJogY7"
      },
      "source": [
        "PSNR\n",
        "\n",
        "[0, inf]\n",
        "\n",
        "better = greater"
      ]
    },
    {
      "cell_type": "code",
      "metadata": {
        "id": "AP8nTb152pw3",
        "outputId": "6fd7221e-90a7-42e8-9b12-4de25cb7f884",
        "colab": {
          "base_uri": "https://localhost:8080/",
          "height": 50
        }
      },
      "source": [
        "import tensorflow as tf\n",
        "\n",
        "x = np.random.rand(100,100,3)*255.\n",
        "y = np.random.rand(100,100,3)*255.\n",
        "print(tf.image.psnr(x,y,max_val=255.0).numpy())\n",
        "\n",
        "x = np.zeros((100,100,3))*255.\n",
        "y = np.ones((100,100,3))*255.\n",
        "print(tf.image.psnr(x,y, max_val=255.0).numpy())"
      ],
      "execution_count": null,
      "outputs": [
        {
          "output_type": "stream",
          "text": [
            "7.7531357\n",
            "3.0517578e-05\n"
          ],
          "name": "stdout"
        }
      ]
    },
    {
      "cell_type": "markdown",
      "metadata": {
        "id": "Ms-EILHJ4OBk"
      },
      "source": [
        "SSIM\n",
        "\n",
        "[0,1]\n",
        "\n",
        "better = greater"
      ]
    },
    {
      "cell_type": "code",
      "metadata": {
        "id": "3Xj1pNWP42oI",
        "outputId": "fbd24988-5260-40d1-f552-0241800fb011",
        "colab": {
          "base_uri": "https://localhost:8080/",
          "height": 50
        }
      },
      "source": [
        "import tensorflow as tf\n",
        "\n",
        "x = np.random.rand(100,100,3)*255.\n",
        "y = np.random.rand(100,100,3)*255.\n",
        "print(tf.image.ssim(x,y,max_val=255.).numpy())\n",
        "\n",
        "x = np.zeros((100,100,3))*255.\n",
        "y = np.ones((100,100,3))*255.\n",
        "print(tf.image.ssim(x,y, max_val=255.).numpy())"
      ],
      "execution_count": null,
      "outputs": [
        {
          "output_type": "stream",
          "text": [
            "0.002970924\n",
            "0.00010002113\n"
          ],
          "name": "stdout"
        }
      ]
    }
  ]
}